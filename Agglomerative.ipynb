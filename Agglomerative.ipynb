{
 "cells": [
  {
   "cell_type": "code",
   "execution_count": 1,
   "metadata": {},
   "outputs": [],
   "source": [
    "# import required modules\n",
    "import numpy as np\n",
    "import sys    \n",
    "import plotly.plotly as py\n",
    "import plotly.figure_factory as ff\n",
    "import plotly\n",
    "plotly.tools.set_credentials_file(username='adityadesai', api_key='OhKTNzY8ebJVtqeQhogI')\n",
    "\n",
    "# needed imports\n",
    "from matplotlib import pyplot as plt\n",
    "from scipy.cluster.hierarchy import dendrogram, linkage\n",
    "import numpy as np\n",
    "\n",
    "from scipy.cluster.hierarchy import cophenet\n",
    "from scipy.spatial.distance import pdist"
   ]
  },
  {
   "cell_type": "code",
   "execution_count": 3,
   "metadata": {},
   "outputs": [],
   "source": [
    "# reading dataset and storing the data points\n",
    "fo = open(\"./genomedata.csv\", \"r\")\n",
    "points = []\n",
    "sequences = []\n",
    "sequence = \"\"\n",
    "for line in fo:\n",
    "    \n",
    "    #print((line))\n",
    "    if(line[0] == '>'):\n",
    "        dataPoint = (line[1:]).replace('\\n','').replace('chr','')\n",
    "        if(dataPoint is not ''):\n",
    "            points.append(dataPoint)\n",
    "        if(sequence is not ''):\n",
    "            sequences.append(sequence)\n",
    "        sequence = \"\"\n",
    "    else:\n",
    "        sequence = sequence + line.replace('\\n','')\n",
    "    "
   ]
  },
  {
   "cell_type": "code",
   "execution_count": 4,
   "metadata": {},
   "outputs": [],
   "source": [
    "# created a mapping from point names to point_i and point_i to sequence values\n",
    "sequencesDictionary = {}\n",
    "pointsDictionary = {} \n",
    "for i in range(len(points)):\n",
    "    sequencesDictionary[\"point_\" + str(i)] = sequences[i]\n",
    "    pointsDictionary[points[i]] = \"point_\" + str(i)"
   ]
  },
  {
   "cell_type": "code",
   "execution_count": 5,
   "metadata": {},
   "outputs": [
    {
     "data": {
      "text/plain": [
       "-2185.0"
      ]
     },
     "execution_count": 5,
     "metadata": {},
     "output_type": "execute_result"
    }
   ],
   "source": [
    "# function to calculate distance between two points\n",
    "# this is basically the global sequence alignment score \n",
    "\n",
    "def calculatePointsDistance(sequencesDictionary,point1,point2):\n",
    "    # rules \n",
    "    gap = -2\n",
    "    match = 1\n",
    "    mismatch = -1\n",
    "    \n",
    "    # getting the sequences\n",
    "    sequence1 = \" \" + sequencesDictionary[point1]\n",
    "    sequence2 = \" \" + sequencesDictionary[point2]\n",
    "\n",
    "    #print(len(sequence1))\n",
    "    #print(len(sequence2))\n",
    "    \n",
    "    \n",
    "    # 2D numpy array of dimensions (len(sequence1) + 1) by (len(sequence2) + 1)\n",
    "    GSAM = np.zeros(((len(sequence1)),(len(sequence2))))\n",
    "    \n",
    "    # initializing the boundary\n",
    "    for i in range(1,(len(sequence1))):\n",
    "        GSAM[i][0] = GSAM[i-1][0] + gap\n",
    "    for j in range(1,(len(sequence2))):\n",
    "        GSAM[0][j] = GSAM[0][j-1] + gap\n",
    "    \n",
    "    \n",
    "    # calculating the element score value\n",
    "    for i in range(1,(len(sequence1))):\n",
    "        for j in range(1,(len(sequence2))):\n",
    "            topChange = GSAM[i-1][j] + gap\n",
    "            leftChange = GSAM[i][j -1] + gap\n",
    "            if(sequence1[i] == sequence2[j]):\n",
    "                diagonalChange = GSAM[i-1][j -1] + match\n",
    "            else:\n",
    "                diagonalChange = GSAM[i-1][j -1] + mismatch\n",
    "            \n",
    "            \n",
    "            GSAM[i][j]  = np.max([topChange,leftChange,diagonalChange])\n",
    "\n",
    "    \n",
    "    return GSAM[len(sequence1)-1][len(sequence2)-1]\n",
    "    \n",
    "    \n",
    "calculatePointsDistance(sequencesDictionary,\"point_8\",\"point_28\")"
   ]
  },
  {
   "cell_type": "code",
   "execution_count": 12,
   "metadata": {},
   "outputs": [],
   "source": [
    "fo = open(\"./pointsDistanceMatrix.csv\",\"r\")\n",
    "pointsDistanceMatrix = np.zeros((len(points),len(points)))\n",
    "counter = 0\n",
    "for line in fo:\n",
    "    splitlist = ((line.split(\",\")))\n",
    "    for j in range(len(splitlist)):\n",
    "        pointsDistanceMatrix[counter][j] = int(splitlist[j])\n",
    "    counter+=1"
   ]
  },
  {
   "cell_type": "code",
   "execution_count": 13,
   "metadata": {},
   "outputs": [],
   "source": [
    "# function to calculate the distance between two clusters\n",
    "def calculateClustersDistance(pointsDistanceMatrix,cluster1,cluster2):\n",
    "    # average linkage\n",
    "    \n",
    "    sumClusterInternalDistances = 0\n",
    "    counter = 0\n",
    "    for item1 in cluster1:\n",
    "        for item2 in cluster2:\n",
    "            #print(item1,item2)\n",
    "            sumClusterInternalDistances += pointsDistanceMatrix[int(item1.replace('point_',''))][int(item2.replace('point_',''))]\n",
    "            counter+=1\n",
    "            \n",
    "    return sumClusterInternalDistances/counter \n",
    "\n",
    "#calculateClustersDistance(pointsDistanceMatrix,['point_1'],['point_2'])"
   ]
  },
  {
   "cell_type": "code",
   "execution_count": 14,
   "metadata": {},
   "outputs": [],
   "source": [
    "# making the cluster distance matrix\n",
    "clusterDistanceMatrix = np.zeros((2*len(points)-1,2*len(points)-1))\n",
    "for i in range(len(clusterDistanceMatrix)):\n",
    "    for j in range(len(clusterDistanceMatrix)):\n",
    "        if i < len(points) and j < len(points):\n",
    "            clusterDistanceMatrix[i][j] = pointsDistanceMatrix[i][j]\n",
    "        else:\n",
    "                clusterDistanceMatrix[i][j]= -sys.maxsize\n",
    "\n",
    "# this is to say that the the distance between a cluster and itself is as minimum as possible it\n",
    "for i in range(len(clusterDistanceMatrix)):\n",
    "    clusterDistanceMatrix[i][i]= -sys.maxsize\n",
    "\n",
    "# function to reduce the clusters to the required number of clusters\n",
    "# n is the required number of clusters\n",
    "\n",
    "def clustering(clusterDistanceMatrix, n,numpoints):\n",
    "    counter = 0\n",
    "    removedIndices = []\n",
    "    indexToListMap ={}\n",
    "    for i in range(numpoints):\n",
    "        indexToListMap[i]=[\"point_\"+str(i)]\n",
    "    totalNumClusters = numpoints\n",
    "    \n",
    "    Z = [] # from scipy see linkage clustering\n",
    "    \n",
    "    #print(indexToListMap)\n",
    "    while(totalNumClusters>n):\n",
    "            # getting the indices of max element\n",
    "            \n",
    "            (row, col) = np.unravel_index(np.argmax(clusterDistanceMatrix, axis=None), clusterDistanceMatrix.shape)\n",
    "            high=col\n",
    "            low=row\n",
    "\n",
    "            if(row>col):\n",
    "                low=col\n",
    "                high=row\n",
    "            \n",
    "            #print(low,high)\n",
    "            \n",
    "            indexToListMap[counter+numpoints] = indexToListMap[low] + indexToListMap[high]            \n",
    "            indexToListMap.pop(high,None)\n",
    "            indexToListMap.pop(low,None)\n",
    "            removedIndices.append(high)\n",
    "            removedIndices.append(low)\n",
    "            \n",
    "            \n",
    "            Z.append([low,high,500-np.max(clusterDistanceMatrix),len(indexToListMap[counter+numpoints])])\n",
    "                        \n",
    "            #print(removedIndices)\n",
    "            # make the high & low - rows and cols min so that they don't interfere later on\n",
    "            for i in range(clusterDistanceMatrix.shape[0]):\n",
    "                clusterDistanceMatrix[high][i] = -sys.maxsize\n",
    "                clusterDistanceMatrix[i][high] = -sys.maxsize\n",
    "                clusterDistanceMatrix[i][low] = -sys.maxsize\n",
    "                clusterDistanceMatrix[low][i] = -sys.maxsize\n",
    "                \n",
    "            # calculate the cluster distance between cluster at low and i and update the row and col at index low \n",
    "            for i in range(counter+numpoints):\n",
    "                if i not in removedIndices:\n",
    "                    dist = calculateClustersDistance(pointsDistanceMatrix,indexToListMap[i],indexToListMap[counter+numpoints])\n",
    "                    clusterDistanceMatrix[counter+numpoints][i]=dist\n",
    "                    clusterDistanceMatrix[i][counter+numpoints]=dist\n",
    "\n",
    "            totalNumClusters=totalNumClusters-1\n",
    "            counter+=1\n",
    "\n",
    "    \n",
    "    return indexToListMap , Z\n",
    "    \n",
    "    \n"
   ]
  },
  {
   "cell_type": "code",
   "execution_count": 15,
   "metadata": {},
   "outputs": [
    {
     "name": "stdout",
     "output_type": "stream",
     "text": [
      "1\n",
      "dict_keys([620])\n"
     ]
    }
   ],
   "source": [
    "clusters,Z = clustering(clusterDistanceMatrix,1,len(points))\n",
    "print(len(clusters.keys()))\n",
    "print(clusters.keys())\n",
    "#clusters"
   ]
  },
  {
   "cell_type": "code",
   "execution_count": 16,
   "metadata": {
    "scrolled": false
   },
   "outputs": [
    {
     "data": {
      "image/png": "[encoded data removed]",
      "text/plain": [
       "<Figure size 1800x720 with 1 Axes>"
      ]
     },
     "metadata": {},
     "output_type": "display_data"
    }
   ],
   "source": [
    "# calculate full dendrogram\n",
    "plt.figure(figsize=(25, 10))\n",
    "plt.title('Hierarchical Clustering Dendrogram')\n",
    "plt.xlabel('sample index')\n",
    "plt.ylabel('distance')\n",
    "dendrogram(\n",
    "    Z,\n",
    "    leaf_rotation=90.,  # rotates the x axis labels\n",
    "    leaf_font_size=8.,  # font size for the x axis labels\n",
    ")\n",
    "plt.show()"
   ]
  },
  {
   "cell_type": "code",
   "execution_count": null,
   "metadata": {
    "collapsed": true
   },
   "outputs": [],
   "source": []
  }
 ],
 "metadata": {
  "kernelspec": {
   "display_name": "Python 3",
   "language": "python",
   "name": "python3"
  },
  "language_info": {
   "codemirror_mode": {
    "name": "ipython",
    "version": 3
   },
   "file_extension": ".py",
   "mimetype": "text/x-python",
   "name": "python",
   "nbconvert_exporter": "python",
   "pygments_lexer": "ipython3",
   "version": "3.6.3"
  }
 },
 "nbformat": 4,
 "nbformat_minor": 2
}
